{
 "cells": [
  {
   "cell_type": "code",
   "execution_count": 7,
   "metadata": {},
   "outputs": [
    {
     "data": {
      "text/plain": [
       "(221,\n",
       " b'2.0.0 closing connection l14-20020a170903244e00b001c44dbc92a2sm1418377pls.184 - gsmtp')"
      ]
     },
     "execution_count": 7,
     "metadata": {},
     "output_type": "execute_result"
    }
   ],
   "source": [
    "#準備訊息物件設定\n",
    "#載入模組\n",
    "import email.message\n",
    "#建立訊息物件\n",
    "\n",
    "\n",
    "import smtplib\n",
    " \n",
    "# Google login\n",
    "gmail_id = 'hebearo777@gmail.com'\n",
    "gmail_passwd = 'ogay irfm dzwc uqgl'\n",
    "to_address = 'asd094198@gmail.com'\n",
    " \n",
    "# email content\n",
    "subject = \"email subject\"\n",
    "text    = \"email message\"\n",
    " \n",
    "# creates SMTP session\n",
    "s = smtplib.SMTP('smtp.gmail.com', 587)\n",
    " \n",
    "# start TLS for security\n",
    "s.starttls()\n",
    " \n",
    "# gmail username and password\n",
    "s.login(gmail_id, gmail_passwd)\n",
    " \n",
    " \n",
    "message = 'Subject: {}\\n\\n{}'.format(subject, text)\n",
    " \n",
    "# sending the mail\n",
    "s.sendmail(gmail_id, to_address, message)\n",
    " \n",
    "# terminating the session\n",
    "s.quit()"
   ]
  }
 ],
 "metadata": {
  "kernelspec": {
   "display_name": "venv",
   "language": "python",
   "name": "python3"
  },
  "language_info": {
   "codemirror_mode": {
    "name": "ipython",
    "version": 3
   },
   "file_extension": ".py",
   "mimetype": "text/x-python",
   "name": "python",
   "nbconvert_exporter": "python",
   "pygments_lexer": "ipython3",
   "version": "3.10.7"
  }
 },
 "nbformat": 4,
 "nbformat_minor": 2
}
