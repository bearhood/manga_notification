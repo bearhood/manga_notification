{
 "cells": [
  {
   "cell_type": "code",
   "execution_count": 5,
   "metadata": {},
   "outputs": [],
   "source": [
    "import json\n",
    "import os\n",
    "from os.path import join as ji\n",
    "import urllib\n",
    "root = 'data'\n",
    "\n",
    "def check_channel_state():\n",
    "    pass\n",
    "def check_chicken_state():\n",
    "    pass\n",
    "\n",
    "\n",
    "path = 'data/1171001907075092480/manga_state.json'\n",
    "with open(path , 'r', encoding='utf-8') as jsonfile:\n",
    "    _state_dict = json.load(jsonfile)\n",
    "\n",
    "\n",
    "def check_manga_state():\n",
    "    for web in _state_dict.keys() :\n",
    "        if( urllib.request.urlopen(web).getcode() != 200 ):\n",
    "            "
   ]
  },
  {
   "cell_type": "code",
   "execution_count": null,
   "metadata": {},
   "outputs": [],
   "source": []
  }
 ],
 "metadata": {
  "kernelspec": {
   "display_name": "venv",
   "language": "python",
   "name": "python3"
  },
  "language_info": {
   "codemirror_mode": {
    "name": "ipython",
    "version": 3
   },
   "file_extension": ".py",
   "mimetype": "text/x-python",
   "name": "python",
   "nbconvert_exporter": "python",
   "pygments_lexer": "ipython3",
   "version": "3.10.7"
  }
 },
 "nbformat": 4,
 "nbformat_minor": 2
}
