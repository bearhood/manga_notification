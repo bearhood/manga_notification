{
 "cells": [
  {
   "cell_type": "code",
   "execution_count": 4,
   "metadata": {},
   "outputs": [
    {
     "data": {
      "text/plain": [
       "'\\nthe manga information\\n\\n{\\n    \"1193126967977988188\" ( user id ):\\n            {\\n                \"https://tw.manhuagui.com/comic/46429/\"(web site):\\n                    {\\n                        \"title\":\"請讓我吸血吧，我會報答你的\",\\n                        \"dep\":\"第50話\",\\n                    \\n                    }\\n            }\\n\\n    }\\n\\n'"
      ]
     },
     "execution_count": 4,
     "metadata": {},
     "output_type": "execute_result"
    }
   ],
   "source": [
    "'''\n",
    "the manga information\n",
    "\n",
    "{\n",
    "    \"1193126967977988188\" ( user id ):\n",
    "            {\n",
    "                \"https://tw.manhuagui.com/comic/46429/\"(web site):\n",
    "                    {\n",
    "                        \"title\":\"請讓我吸血吧，我會報答你的\",\n",
    "                        \"dep\":\"第50話\",\n",
    "                    \n",
    "                    }\n",
    "            }\n",
    "\n",
    "    }\n",
    "\n",
    "'''"
   ]
  },
  {
   "cell_type": "code",
   "execution_count": 5,
   "metadata": {},
   "outputs": [
    {
     "data": {
      "text/plain": [
       "\"with open( r'/home/hebearo/python_app/manga_noti/manga_notification/data/manga/manga_data.json', 'w', encoding='utf-8')as jsonfile:\\n    json.dump(manga,jsonfile)\""
      ]
     },
     "execution_count": 5,
     "metadata": {},
     "output_type": "execute_result"
    }
   ],
   "source": [
    "import json\n",
    "\n",
    "manga_dict = {\n",
    "    \"1193126967977988188\":\n",
    "            {\n",
    "                \"https://tw.manhuagui.com/comic/46429/\":\n",
    "                    {\n",
    "                        \"title\":\"請讓我吸血吧，我會報答你的\",\n",
    "                        \"dep\":\"第50話\",\n",
    "                        \"last\":'2024-08-30'\n",
    "                    \n",
    "                    }\n",
    "            }\n",
    "\n",
    "    }\n",
    "with open( r'/home/hebearo/python_app/manga_noti/manga_notification/data/manga/manga_data.json', 'w', encoding='utf-8')as jsonfile:\n",
    "    json.dump(manga,jsonfile)\n"
   ]
  },
  {
   "cell_type": "code",
   "execution_count": 43,
   "metadata": {},
   "outputs": [],
   "source": [
    "import urllib\n",
    "from bs4 import BeautifulSoup\n",
    "web_update = 'https://tw.manhuagui.com/update/'\n",
    "url_headers = {'User-Agent': 'Mozilla/5.0 (Windows NT 10.0; Win64; x64) AppleWebKit/537.36 (KHTML, like Gecko) Chrome/117.0.0.0 Safari/537.36'}\n",
    "\n",
    "req = urllib.request.Request( web_update,\n",
    "                                headers = url_headers )\n",
    "html_page = urllib.request.urlopen( req ,timeout = 5)\n",
    "_soup = BeautifulSoup(html_page,'html.parser')"
   ]
  },
  {
   "cell_type": "code",
   "execution_count": 59,
   "metadata": {},
   "outputs": [
    {
     "name": "stdout",
     "output_type": "stream",
     "text": [
      "ZJ病棟 全年齡版 更新至28話\n",
      "異世界好色無雙錄 更新至30話\n",
      "百合戀物LIFE 更新至06話\n",
      "怪獸8號 更新至113話\n",
      "組長女兒與照料專員 更新至129話\n",
      "狂怒的暴食 ～只有我突破了等級這概念～ 更新至66話\n",
      "轉生賢者的異世界生活~取得副職業併成為世界最強 更新至71.3話\n",
      "天才王子的赤字國家振興術 更新至207話\n",
      "轉生貴族憑鑑定技能扭轉人生～繼承弱小領土後，招募優秀人才打造最強領土 更新至140話\n",
      "打了三百年的史萊姆，不知不覺就練到了滿等 更新至83.2話\n",
      "這個世界漏洞百出 更新至60話\n",
      "兩個人的孤獨 更新至60話\n",
      "當我說出「想要漂亮又有錢的女朋友」後被問題女生找上門這件事 更新至13話\n",
      "南瓜魅夜 更新至139話試看\n",
      "極樂娘動物園 更新至6話\n",
      "與遊戲中心的少女異文化交流的故事 更新至動畫化\n",
      "我是星際國家的英雄騎士 更新至08話\n",
      "カコミスル老師四格合集 更新至詠唱魔法\n",
      "世界樹的魔物使 更新至4.1話\n",
      "夏日倖存 更新至27話\n",
      "你的顏色 更新至3.1話\n",
      "與潮共舞 更新至16話\n",
      "唯一的孩子 更新至18話\n",
      "異形頭與人類小姐 更新至01話\n",
      "合歡修行 共短篇\n",
      "貓妖日記 共短篇\n",
      "我、貓咪與二十歲的你 更新至01卷\n",
      "想與陰暗的她一起做的事 更新至57話\n",
      "怠工之夏 更新至09話\n",
      "玖珂ツニヤ推特短篇 更新至喋喋不休的青梅竹馬來看望你，假裝失憶的話…\n",
      "加油吧優君！ 更新至18話\n",
      "俺的男魂已獻祭 更新至27話\n",
      "艾瑪 更新至餘波06\n",
      "成為奪心魔的必要 更新至178話\n",
      "被海洋垃圾汙染後的小美人魚 更新至同人圖164\n",
      "喪屍darling 更新至153話\n",
      "平凡千金艾麗絲·拉斯的日常 更新至04話\n",
      "獸人小哥正在發情中！？ 共番外\n",
      "重逢的青梅竹馬（女孩子）太對我胃口了怎麼辦 共短篇\n",
      "放學後，我成為你 更新至02話\n",
      "守財奴騎士對惹我哭感到樂在其中 更新至16話\n",
      "異世界的年下騎士為我事事操心 共12話\n",
      "斯蒂婭的魔女 更新至14話\n",
      "酒之仄徑 更新至835話\n",
      "聖女梅里亞和千年王國的騎士 更新至15話\n",
      "王子與騎士 更新至10話\n",
      "當宇宙到達銀河的時候 更新至52話\n",
      "復仇爸爸 更新至12話\n",
      "變身人千惠 更新至12話\n",
      "從異界回來的奔四白領回到17歲的時候開無雙 更新至27話\n",
      "孩子們 更新至11話\n",
      "海藍色眼影的歸鄉x復仇 更新至33話\n",
      "想讓我出人頭地的最強女師傅們，為了培育方針演變成修羅場 更新至16話\n",
      "由比太的戀人 更新至27話\n",
      "與聖潔少女們的不可告人之事 更新至06話\n",
      "幸運的意外 更新至01話\n",
      "失學園 更新至01話\n",
      "GENE BRIDE 更新至17話\n",
      "三月的驚雷 更新至02話\n",
      "為了破壞婚約我假裝失憶不料未婚夫竟撒彌天大謊 更新至11話\n",
      "一天只有一回與妹妹對上視線 更新至49話\n",
      "互為巨乳的青梅竹馬 共63話\n",
      "我，當備胎女友就行了 更新至01卷\n",
      "望宇向宙 更新至31話\n",
      "怪異校正 更新至16話\n",
      "其實，我乃最強? 更新至番外篇15\n",
      "老鼠的初戀 更新至36話\n",
      "請讓我吸血吧，我會報答你的 更新至50話\n",
      "怪怪守護神 更新至169.5話\n",
      "妖怪小姐和我 更新至01話\n",
      "新泰坦 更新至65卷\n",
      "辣妹與野槌蛇 更新至16話\n",
      "Debby·the·Corsifa不願敗北 共特別編43\n",
      "6與7  更新至01話\n",
      "遊戲王OCG構築 更新至63話\n",
      "身為聖女被開除之後、不知為何幼女化成為了魔王的寵物 更新至13話\n",
      "請你善良！妖狐醬 更新至04話\n",
      "從今日起成為惡女 更新至04話\n",
      "黑豹君想把我吞吃入腹 更新至04話\n",
      "交織重疊的初戀 更新至02話\n",
      "男子高中生的異世界jk轉生 更新至08話\n",
      "沒有味覺的男人 更新至59話\n",
      "復仇王子 更新至01話\n",
      "入夜友人來 共短篇\n",
      "少主溜得快 更新至168話\n",
      "係長代理東方同人系列 更新至03話\n",
      "附身火精靈 更新至4.2話\n",
      "嫁過來的妻子整天都在諂笑 更新至59話\n",
      "獸道 更新至76話\n",
      "明明是以劍士為目標入學的 魔法適性卻有9999！？ 更新至49話\n",
      "女戰士是不受歡迎的啊 更新至26話\n",
      "白沙的水族館 更新至11話\n",
      "狼戀上月 更新至04話\n",
      "殭屍搜尋中 共16話\n",
      "強過頭的雜魚平民 更新至02話\n",
      "女忍害羞了 更新至44話\n",
      "紙箱情緣 更新至03話\n",
      "聖君想要純潔的生活 更新至19話\n",
      "孩子小偷 更新至01話\n",
      "是誰殺死了勇者 更新至序章\n",
      "黑暗使我感到愉悅 更新至06話\n",
      "DillyDilly-女僕百合再錄集- 更新至07話\n",
      "天才最弱魔物使想要歸家~被迫與最強的使魔分離 飛向未知之地~ 更新至13話\n",
      "混吃等死不如賣畫 更新至05話\n",
      "初期技能超便利，異世界生活超開心！ 更新至16話\n",
      "我真成了魔法少女！？ 更新至19話\n",
      "143海濱大道 更新至03話\n",
      "從漫畫了解FGO！ 更新至03部367話\n",
      "直到你的刀折斷為止  更新至36話\n",
      "機動戰士高達F90 極速方程式 更新至12話\n",
      "惡役千金與鬼畜騎士 更新至01卷\n",
      "花如修羅一般，綻放 更新至02卷\n",
      "獸心狂刀 更新至32話\n",
      "ARTE 更新至14卷\n",
      "搖滾乃淑女之嗜好 更新至38話\n",
      "下雪的小鎮 共短篇\n",
      "與幼小的你一起，將聲音傳到遠方 更新至16.2話\n",
      "山田家的女人 更新至24話\n",
      "眼鏡男友與戀物癖女友 更新至07話\n",
      "只是XX的幻想就請原諒我吧 更新至06話\n",
      "這位魔王太過保護我了 更新至06話\n",
      "我的病弱吸血鬼 更新至37話\n",
      "打是親罵是愛、愛得不夠用腳踹 更新至21話\n",
      "(C104) 賽馬新娘第5R 馬娘X訓練員♂結婚生活合同本 更新至奇銳駿\n",
      "雙星之陰陽師 更新至29卷\n",
      "Baalbuddy漫畫小短篇 更新至我在看高達W時隨手畫的\n",
      "勇者系列 更新至1604話\n",
      "中華小廚師 共極163\n",
      "異世界叔叔 更新至番外篇4\n"
     ]
    }
   ],
   "source": [
    "from  datetime import datetime\n",
    "updating_tot = _soup.findAll( attrs={'class':'latest-cont'})[0]\n",
    "last_day = updating_tot.findNext(name='h5').text.split(' ')[0]\n",
    "updating_ctx = updating_tot.findNext(attrs={'class':\"latest-list\"})\n",
    "updating_ctx_list = updating_ctx.findAll(name='li')\n",
    "today_date = str(datetime.now().strftime('%Y-%m-%d'))\n",
    "\n",
    "if(last_day==today_date):\n",
    "    for mginfo in updating_ctx_list:\n",
    "        mgname=  mginfo.findNext(name='a')['title']\n",
    "        mgdep = mginfo.findNext(name='span' , attrs={'class':\"tt\"}).text\n",
    "        print(mgname , mgdep)"
   ]
  },
  {
   "cell_type": "code",
   "execution_count": 29,
   "metadata": {},
   "outputs": [
    {
     "data": {
      "text/plain": [
       "<h5><strong>2024-08-30 [ 星期五 ]</strong><span class=\"fr\"><a href=\"#\">返回頂部</a></span></h5>"
      ]
     },
     "execution_count": 29,
     "metadata": {},
     "output_type": "execute_result"
    }
   ],
   "source": []
  },
  {
   "cell_type": "code",
   "execution_count": 9,
   "metadata": {},
   "outputs": [
    {
     "name": "stdout",
     "output_type": "stream",
     "text": [
      "https://tw.manhuagui.com/comic/46429/\n"
     ]
    }
   ],
   "source": [
    "\n",
    "for id in manga_dict.keys():\n",
    "    for web_target in manga_dict[id].keys():\n",
    "        print(web_target)\n",
    "        "
   ]
  }
 ],
 "metadata": {
  "kernelspec": {
   "display_name": ".venv",
   "language": "python",
   "name": "python3"
  },
  "language_info": {
   "codemirror_mode": {
    "name": "ipython",
    "version": 3
   },
   "file_extension": ".py",
   "mimetype": "text/x-python",
   "name": "python",
   "nbconvert_exporter": "python",
   "pygments_lexer": "ipython3",
   "version": "3.9.2"
  }
 },
 "nbformat": 4,
 "nbformat_minor": 2
}
