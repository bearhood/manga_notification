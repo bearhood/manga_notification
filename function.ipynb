{
 "cells": [
  {
   "cell_type": "code",
   "execution_count": 6,
   "metadata": {},
   "outputs": [
    {
     "ename": "RuntimeError",
     "evalue": "asyncio.run() cannot be called from a running event loop",
     "output_type": "error",
     "traceback": [
      "\u001b[1;31m---------------------------------------------------------------------------\u001b[0m",
      "\u001b[1;31mRuntimeError\u001b[0m                              Traceback (most recent call last)",
      "\u001b[1;32me:\\python_app\\manga_notification\\function.ipynb 儲存格 1\u001b[0m line \u001b[0;36m2\n\u001b[0;32m     <a href='vscode-notebook-cell:/e%3A/python_app/manga_notification/function.ipynb#W0sZmlsZQ%3D%3D?line=26'>27</a>\u001b[0m       \u001b[39melse\u001b[39;00m:\n\u001b[0;32m     <a href='vscode-notebook-cell:/e%3A/python_app/manga_notification/function.ipynb#W0sZmlsZQ%3D%3D?line=27'>28</a>\u001b[0m         \u001b[39mawait\u001b[39;00m message\u001b[39m.\u001b[39mchannel\u001b[39m.\u001b[39msend(tmp[\u001b[39m1\u001b[39m])\n\u001b[1;32m---> <a href='vscode-notebook-cell:/e%3A/python_app/manga_notification/function.ipynb#W0sZmlsZQ%3D%3D?line=28'>29</a>\u001b[0m client\u001b[39m.\u001b[39;49mrun(\u001b[39m\"\u001b[39;49m\u001b[39mMTE3MDIyMjExODQ1NDE4NjAzNA.Gn90Ot.MlSd4-fvAgUb0oODdVemNgV_jIBuHivwrv6eNY\u001b[39;49m\u001b[39m\"\u001b[39;49m)\n",
      "File \u001b[1;32me:\\python_app\\manga_notification\\venv\\lib\\site-packages\\discord\\client.py:860\u001b[0m, in \u001b[0;36mClient.run\u001b[1;34m(self, token, reconnect, log_handler, log_formatter, log_level, root_logger)\u001b[0m\n\u001b[0;32m    852\u001b[0m     utils\u001b[39m.\u001b[39msetup_logging(\n\u001b[0;32m    853\u001b[0m         handler\u001b[39m=\u001b[39mlog_handler,\n\u001b[0;32m    854\u001b[0m         formatter\u001b[39m=\u001b[39mlog_formatter,\n\u001b[0;32m    855\u001b[0m         level\u001b[39m=\u001b[39mlog_level,\n\u001b[0;32m    856\u001b[0m         root\u001b[39m=\u001b[39mroot_logger,\n\u001b[0;32m    857\u001b[0m     )\n\u001b[0;32m    859\u001b[0m \u001b[39mtry\u001b[39;00m:\n\u001b[1;32m--> 860\u001b[0m     asyncio\u001b[39m.\u001b[39;49mrun(runner())\n\u001b[0;32m    861\u001b[0m \u001b[39mexcept\u001b[39;00m \u001b[39mKeyboardInterrupt\u001b[39;00m:\n\u001b[0;32m    862\u001b[0m     \u001b[39m# nothing to do here\u001b[39;00m\n\u001b[0;32m    863\u001b[0m     \u001b[39m# `asyncio.run` handles the loop cleanup\u001b[39;00m\n\u001b[0;32m    864\u001b[0m     \u001b[39m# and `self.start` closes all sockets and the HTTPClient instance.\u001b[39;00m\n\u001b[0;32m    865\u001b[0m     \u001b[39mreturn\u001b[39;00m\n",
      "File \u001b[1;32m~\\AppData\\Local\\Programs\\Python\\Python310\\lib\\asyncio\\runners.py:33\u001b[0m, in \u001b[0;36mrun\u001b[1;34m(main, debug)\u001b[0m\n\u001b[0;32m      9\u001b[0m \u001b[39m\u001b[39m\u001b[39m\"\"\"Execute the coroutine and return the result.\u001b[39;00m\n\u001b[0;32m     10\u001b[0m \n\u001b[0;32m     11\u001b[0m \u001b[39mThis function runs the passed coroutine, taking care of\u001b[39;00m\n\u001b[1;32m   (...)\u001b[0m\n\u001b[0;32m     30\u001b[0m \u001b[39m    asyncio.run(main())\u001b[39;00m\n\u001b[0;32m     31\u001b[0m \u001b[39m\"\"\"\u001b[39;00m\n\u001b[0;32m     32\u001b[0m \u001b[39mif\u001b[39;00m events\u001b[39m.\u001b[39m_get_running_loop() \u001b[39mis\u001b[39;00m \u001b[39mnot\u001b[39;00m \u001b[39mNone\u001b[39;00m:\n\u001b[1;32m---> 33\u001b[0m     \u001b[39mraise\u001b[39;00m \u001b[39mRuntimeError\u001b[39;00m(\n\u001b[0;32m     34\u001b[0m         \u001b[39m\"\u001b[39m\u001b[39masyncio.run() cannot be called from a running event loop\u001b[39m\u001b[39m\"\u001b[39m)\n\u001b[0;32m     36\u001b[0m \u001b[39mif\u001b[39;00m \u001b[39mnot\u001b[39;00m coroutines\u001b[39m.\u001b[39miscoroutine(main):\n\u001b[0;32m     37\u001b[0m     \u001b[39mraise\u001b[39;00m \u001b[39mValueError\u001b[39;00m(\u001b[39m\"\u001b[39m\u001b[39ma coroutine was expected, got \u001b[39m\u001b[39m{!r}\u001b[39;00m\u001b[39m\"\u001b[39m\u001b[39m.\u001b[39mformat(main))\n",
      "\u001b[1;31mRuntimeError\u001b[0m: asyncio.run() cannot be called from a running event loop"
     ]
    }
   ],
   "source": [
    "#導入Discord.py\n",
    "import discord\n",
    "#client 是我們與 Discord 連結的橋樑，intents 是我們要求的權限\n",
    "intents = discord.Intents.default()\n",
    "intents.message_content = True\n",
    "client = discord.Client(intents=intents)\n",
    "\n",
    "#調用event函式庫\n",
    "@client.event\n",
    "#當機器人完成啟動時\n",
    "async def on_ready():\n",
    "    print('目前登入身份：',client.user)\n",
    "\n",
    "@client.event\n",
    "#當有訊息時\n",
    "async def on_message(message):\n",
    "    #排除自己的訊息，避免陷入無限循環\n",
    "    if message.author == client.user:\n",
    "        return\n",
    "    #如果以「說」開頭\n",
    "    if message.content.startswith('說'):\n",
    "      #分割訊息成兩份\n",
    "      tmp = message.content.split(\" \",2)\n",
    "      #如果分割後串列長度只有1\n",
    "      if len(tmp) == 1:\n",
    "        await message.channel.send(\"你要我說什麼啦？\")\n",
    "      else:\n",
    "        await message.channel.send(tmp[1])\n",
    "client.run(\"MTE3MDIyMjExODQ1NDE4NjAzNA.Gn90Ot.MlSd4-fvAgUb0oODdVemNgV_jIBuHivwrv6eNY\")\n"
   ]
  },
  {
   "cell_type": "code",
   "execution_count": 17,
   "metadata": {},
   "outputs": [
    {
     "name": "stdout",
     "output_type": "stream",
     "text": [
      "['清澈而單純的心靈才能感受到正能量，而自私的心看見的只是複雜、混沌', '所謂投資，對我而言就是投下資金，通過自己額頭流汗，辛勤工作獲取利潤，而非不勞而獲', '人生的道路都是由心來描繪的', '從想要開始真正創造的那一刻起，最重要的就是信任自己，也就是要有自信', '「每一天都極度認真」——這句話非常簡單，卻是人生最重要的原理原則', '與其尋找自己喜歡的工作，不如先喜歡上已有的工作；與其追求幻想，還不如愛上眼前的工作', '專心致志於一行一業，不膩煩、不焦躁，埋頭苦幹，你的人生就會開出美麗的花，結出豐碩的果實', '當遇上難以克服的困難，認為「已經不行了」的時候，其實並不是終點，而恰恰是重新開始的起點', '利他！凡是事事為他人著想，換位思考，事情總會出奇的順利，內心也平靜和充實', '眼睛可以眺望高空，雙腳卻必須踏在地上', '為什麼如此閉塞的狀況充斥著整個社會呢？那難道不是因為很多人找不到活著的意義和價值，迷失了人生的方向嗎？我想對這個時代來說，最必要的就是從根本上質問人為什麼活著', '在建立目標時，要設定「超過自己能力之上的指標」', '那些讓人驚奇的偉業，實際上，幾乎都是極為普通的人兢兢業業、一步一步持續積累的結果', '冬天越是寒冷，櫻花就越開得燦爛', '進入保守觀望的那一刻，就是企業衰退的開始', '看看部下是否熱愛工作，並把自己的活力灌輸給他們，直到他們也有熾烈的熱情為止——這就是領導者的首要任務', '想度過一個充實的人生，只有兩種選擇', '人是很奇怪的，一旦被逼入進退維谷的境地，反倒想開了，輕鬆了', '即使你討厭工作，但又不得不努力工作，那麼在努力工作的過程中，你脆弱的心靈就能得到錘鍊，你的人格就能得到提升，你就能抓住幸福人生的契機', '所謂不可能，只是現在的自己不可能，對將來的自己而言那是「可能」的', '將平凡變成非凡就是這個「持續」', '越是錯綜複雜的問題，就越要根據簡單的原理和樸素的思想進行判斷和行動', '半吊子的想法千萬要不得，你的願望必須強烈到讓你朝思暮想，無時無刻都記掛在心', '要取得事業和人生持續的成功，有兩個條件', '所謂今生，是一個為了提高身心修養而得到的期限，是為了修煉靈魂而得到的場所', '究竟要選擇兩條路中的哪一條，當你猶豫彷徨時，我建議你遠離自我利益，選擇那條充滿荊棘的道路，因為這是人生「本來應該」走的路', '所謂人生，歸根到底，就是「一瞬間、一瞬間持續的積累」，如此而已', '勞動的意義不僅在於追求業績，更在於完善人的心靈', '熱戀中的戀人，在旁人看來目瞪口呆的事情，他們卻處之泰然', '因果必報，但需要時間', '不論你多麼富有，多麼有權勢，當生命結束之時，所有的一切都只能留在世界上，唯有靈魂跟著你走下一段旅程', '苦難不會沒完沒了，當然幸運也不會永遠持續', '工作最重要的目的在於通過工作來磨練自己的心志、提高自己的人格', '當有人問「人為什麼來到這個世上」時，我毫不猶豫地、毫不誇耀地回答「是為了比出生時有一點點的進步，或者說是為了帶著更美一點、更崇高一點的靈魂死去', '選擇合作夥伴主要看人品', '在勞動中獲得的喜悅是特別的，絕對不是遊玩和興趣可以代替的', '如果能在腦海中勾勒出成功的景象，成功的概率就會大為提高', '哪怕是無能為力的事，那也只是現在的自己無能為力，將來的自己一定能行，用「將來進行時」考慮是很重要的', '人生·工作的結果＝思維方式 × 熱情 × 能力40', '人生中的困難和挫折，正是我人生的起點，或許也正是我最大的「幸運」', '比老闆夢想更重要的是，員工家庭的幸福', '沈浸在夢想中是必要的，這樣我們才有使之成為事實的熱情', '能力普通的人，若能清楚自己的缺點，並極力彌補，就可以表現的比資質過人卻不特別努力的人好', '沒有靈魂的力量，我們很容易淪為自己才能的奴隸', '真誠使聽者和說話者結合在一起', '樂觀地思考，悲觀地計畫，實行時又要滿懷希望和信心', '若要真正成功，獲得偉大的成就，必得先愛上自己的工作', '最偉大的技巧就是超越自我的能力', '如果動機和方法都是良善的，就不必擔心結果了', '在所有的力量中，最重要的特質就是勇氣和意志力', '若要做出正確的決定，一定要以真誠的生命哲學作為行事的尺規', '我們一定要學著控制自己的本能，這樣才智方能發展，也才有做出正確決定的能力', '認真地重複練習，可以鍛鍊我們的潛意識在瞬間做出抉擇', '絕妙的機會總是藏在最不起眼處，只有強烈地感受到自己目標的人才能看見', '人生這齣戲、為自己寫好腳本的人，與庸庸碌碌過日子的人，有著天壤之別', '好走的路不一定能把我們帶到目的地，相信這一點，準沒錯！58', '身為領導人，一定要清楚表明自己無私的立場', '唯有謙卑的領導人能創造出一個合作的團隊，並使之導向和諧的、長遠的成功', '在自由市場裡，利潤該是社會給有功者的嘉許', '是否願意犧牲是每個主管的試金石', '以你的熱情讓主管充滿動力，進而點燃部屬心中的熱情', '「管理」就是：在重紀律的同時，不要忘了獎賞', '就如研發工作，管理也要培養從繁複的現象中找到事情本質的能力', '企業的長遠成功來自顧客對公司的尊敬', '從一家企業的品質，可看出其追求卓越的熱情有幾分', '我們的員工因為有失敗的餘地，因此有勇氣不斷地接受新挑戰，並更賣力地工作', '企業領導人一定要追求完美，就像是一種生活習慣', '長期的財務和心理準備是挑戰創新的前提', '簡單才是不可動搖的原則，思維方式改變了，人生也會一百八十度大轉變', '用生存和生命的意義，發揮一點抵禦時代洪流的抗衡力量', '人生的目的是“提升心性，鍛煉靈魂”', '就是因為人生疾苦，才更要把它視為對靈魂的鍛煉和考驗', '人格可借一個公式來表達：性格+哲學', '心裡的念頭會牽動人生的發展，強烈的念頭會發展具象', '善心，尤其是“為世間，為人類”的想法，可以說是宇宙最初的“意志”', '當人類想得到什麼東西的時候，那些抱持善念拼命努力的人，自有神明會為他照亮前程', '要把拼命努力、誠懇、認真、誠實這些大家耳熟能詳的道德和倫理觀堅守到底，視其為個人哲學中無法撼動的一道防線', '想像的畫面必須是“彩色”的，要奮戰到老天爺出手相助的一刻，把平凡化為非凡的是持續', '大膽思考，小心準備，空有勇氣而不知道害怕，又缺少慎重和細心，充其量只能叫蠻勇', '自己所遭遇到的所有事，其實都是自己的心所產生', '凡事我總是問自己：“這樣就可以了嗎，沒有更好的處理方式嗎？”從這個角度看，就算無關緊要的事，也有無數的改善空間', '是什麼造就了這些平凡人的非凡呢？是那一股能默默專注在同一件事情而不感到厭煩的力量，也就是拚命去過每一天的力量', '我曾向中坊先生請教處理重大事件的關鍵要點，他的回答是：“所有關鍵要點都在現場，每個現場都有神明坐鎮”', '俗話說：“有意注意”，是指有意識地去注意', '人生如果做不到有意注意就沒有意義', '為了圓一夢想，你必須一想再想，不斷地去想著這個念頭，直到它融入潛意識為止', '只有靠自己辛苦流汗賺來的錢，才是真正的利益', '是否擁有“寧可損失也要堅持到底”的哲學，及有“明知辛苦也再所不辭”的心理準備，這就是決定你能否擁用真實的活法，能否掌握成功果實的分水嶺', '“有體會重於有知識”也是人生重要的原理原則，換句話說，就是“知道”與“會”之間未必能畫上等號', '把工作做好需要耗費許多能量，而能量來自勉勵自己，激發出自己的熱情', '越是糾纏不清，看似複雜的問題，越應該回到原點，根據最簡單的原理原則去判斷', '著名數學家廣中平先生表達過如此高見：“看似複雜的現象，其實往往不過是簡單事物的投影', '越是基於領導地位的人，在才能及口才之外，更需要一個以明確哲學為基礎的深沉厚重的人格', '改變自己與生俱來的心，使其更加美麗，正是我們生命的目的所在', '磨練心性的六大精進要點：1、付出不遜於任何人的努力', '不管物質條件如何，只要擁有一顆感恩的心，那麼就能得到滿足的感覺', '唯有那些每天自我反省不以為倦的人，心志才可能獲得提升', '如果能在下結論之前，多加一道“理性的緩衝”，就能避免帶有慾望色彩的判斷，而做出偏向理性的判斷', '勞動有苦澀的根，甘甜的果實', '所謂開悟，就是心性獲得提升，磨練心性之最終、最高的階段，就是悟的境界', '我們曾經如此看重工作的意義和價值，也深深瞭解孜孜不倦的工作態度會通過榮耀感與生活的價值豐富人的心靈，更從中感受到人生的意義', '命運像經線，因果法則像緯線，兩者縱橫交錯，編織出人生這塊布', '人生之所以不完全按照命運的劇本走，是因為受到因果法則力量的牽制', '宇宙有一股靜靜存在的強韌意識、思想、愛、力量與能量，雖然肉眼無法看到，卻是貨真價實地存在著', '任你平步青雲，事業飛黃騰達，累積一生享用不盡的財富，與提升心性相比，其重要性就像塵土般微不足道', '我認為人心是一種由多個同心圓環繞而成的多層次結構', '碰到災難應該感到高興，而不是失意難過，災難會把依附在靈魂上的業障帶走', '靈魂的裡層陷藏著純淨、美好、又帶有佛性的永生不滅之心——真我', '修行就是由外向內磨練心性']\n"
     ]
    }
   ],
   "source": [
    "dictt = [i for i in '1234567890']\n",
    "import json\n",
    "with open('temp/稻聖和夫.txt','r',encoding='utf-8') as file:\n",
    "    text = file.read().replace('\\n','')\n",
    "    t2 = text.split('。')\n",
    "    t3 = []\n",
    "    for i in t2:\n",
    "        try:\n",
    "            t3.append( i.split('.')[1] ) \n",
    "        except:\n",
    "            continue\n",
    "    print(t3)\n",
    "with open('data/speech/pkg.json','r',encoding='utf-8') as file:\n",
    "    dictt = json.load(file)\n",
    "    dictt['稻聖和夫'] = t3\n",
    "with open('data/speech/pkg.json','w',encoding='utf-8') as file:\n",
    "    json.dump(dictt,file)"
   ]
  },
  {
   "cell_type": "code",
   "execution_count": 7,
   "metadata": {},
   "outputs": [
    {
     "name": "stdout",
     "output_type": "stream",
     "text": [
      "123\n"
     ]
    }
   ],
   "source": [
    "a= {'123':'1233'}\n",
    "d = list(a.keys())\n",
    "\n",
    "import random\n",
    "print( random.choice(d) )"
   ]
  },
  {
   "cell_type": "code",
   "execution_count": 19,
   "metadata": {},
   "outputs": [
    {
     "name": "stdout",
     "output_type": "stream",
     "text": [
      "['我跟你直球對決！', '我叫韓國瑜，號稱百年難得一見的政治奇才！', '新潮流像癌細胞，整個控制了ＸＸ黨，新潮流在ＸＸ黨裡面藉機生蛋。', '是中華民國萬歲？還是台灣獨立萬歲？', '總統被架空。', '當總統不是讀稿機。', '放馬過來！恁北等你！', '我只是一個賣菜賣水果的ＯＫ？', '我只想說問世間情是何物？問世間真理是何物？', '貨賣的出的去，人跟錢進得來，高雄發大財！', '我愛台灣！我身在台灣！我長在台灣！死在台灣！我也會埋在台灣！', '我現在要出征！我現在要出征！有伊人要同行！', 'Overmydeadbody!', 'Yes!Ido!我準備承擔任何重要職務！為了中華民國不惜粉身碎骨！', '還在問我私生活！要不要問我幾歲之前還是處男？無聊！', '得民心得天下，得民調得痔瘡！', '來是偶然，離開是必然。', '我自橫刀向天嘯，去留肝膽兩崑崙。我依然心繫高雄，我依然心懷社稷，我依然心存正氣！', '《浴缸塞子論》：「兩個棋手在下棋，如果台灣只是當個車馬炮兵卒，時間一到，價值沒有就丟掉，還是我們要換一個角色，身體非常疲倦，晚上很累，泡個澡，當個塞子，棋子還是塞子，塞子必須有水，要泡澡必須要有浴缸，水很重要量大，浴缸要很大，沒有這個小塞子，你今天晚上就沒有辦法泡澡。」', '拉進來打出去！', '離開我的爸爸媽媽。', '權力中毒症。', '台灣安全，人民有錢！', '我們為什麼不把凱子外交，轉為發財外交捏！', '「國民黨就像便利商店的一個茶葉蛋，消費者不掏錢去買，你國民黨永遠沒有機會。」', '高雄只要經濟，不要政治。', '上去一個小時，做你愛做的事情。', '從此以後沒有怕過。', '你們聽過禿子跟著月亮走嗎？', '禿頭的不怕別人拔我的毛！', '我希望陳委員，趕快政治斷奶！', '莫忘世上苦人多！', '高雄又老，又窮！', '愛與包容！', '水龍頭就像美國，浴缸就像中國大陸，很大！但它沒有塞子，它就沒辦法泡澡，我們就是一個塞子。', '如果韓國瑜貪污，我拜託法官檢察官把我關到死！', '勿忘影中人！', '中華民國再退一步就有可能亡國！', '嫦娥，請問妳支持台獨嗎？', '中華文化是我們生命的根。', '自由民主就是我們最高最高的台灣價值！', '他奶奶的！', '將來如果有機會當中華民國總統，所有的錢都屬於兩千三萬的人對不對？', '黑韓產業幾萬人，用火車都拉不完，高鐵都拉不完！', '我們希望追求更高的，神聖的民主價值！', '你為了讓台灣人民相信我有網軍，還扣了一個曾永權來，說他的網軍給我，不要說曾永權沒有借我網軍，他連襪子跟衣服都沒有借給我過。', '為什麼我不接受三立電視台，我說你改名字？我這裡呼籲三立電視台改成兩立，我就接受你訪問，為什麼少一立，因為沒有良心，剩下兩立是哪兩立？兩立第一個造謠，第二個抹黑，這還叫新聞媒體嗎？', '中秋節到了，就是開始寫情書把馬子！我最會寫的就是但願人長久，千里共嬋娟。', '「國民黨再不努力，這一支股票就要下市了！進入全額交割股！」', '「現在來競選國民黨黨主席，你想要吃香喝辣，想要乾隆皇帝下江南那種享受是絕無可能！」', '再好的木材，遇到大海只能漂浮！', '民主進步黨在臺灣民主政治做出貢獻，高雄鄉親也給了他們20年的執政，說一句不客氣的話，已經不欠了，完全不欠民進黨了。', '乾乾淨淨的輸，沒關係，不要骯髒的贏。', '經濟一百分，政治零分。', '民進黨也不是高雄人的爸爸，為什麼每次都要投他！', '用一瓶礦泉水打選戰。', '「你的心思是在人民，還是心思在權力。」', '「世界上最惡毒的眼神，就兩個美女在看對方的眼神。」', '「說出嘴的話語和吃進肚的東西同樣重要。」', '「我是賣菜郎，不是小紅帽。」', '賣貨不賣台。」', '「莫忘世上苦人多。」', '「人所能負的責任，我必能負；人所不能負的責任，我亦能負。」', '「太監穿西裝，西裝穿得再漂亮，穿Armani的西裝，他還是個太監。」', '「為了中華民國，不惜粉身碎骨。」', '「得民心者得天下，得民調者得痔瘡。」', '「模特兒愈多，伸展臺上觀眾愈可以看得出來哪一個模特兒身材好，不怕貨比貨，就怕不識貨。」', '「心胸打開，處處是陽光；如果心胸把它封閉起來的話，處處都是障礙。」', '征服宇宙。」', '我做到。」', '我競選政見有白紙黑字嗎？', '不好意思，我看到網路這些攻擊者，說句不客氣的話，我不是用肉眼在看，我是用屁眼看他們！', '熱情不破。', '小小一個，這就是台灣。」']\n",
      "74\n"
     ]
    }
   ],
   "source": [
    "import json\n",
    "with open('temp/韓國瑜.txt','r',encoding='utf-8') as file:\n",
    "    text = file.read().replace(' ','').split('\\n')\n",
    "    t2 = []\n",
    "    for i,val in enumerate(text):\n",
    "        if(val!=''):\n",
    "            t2.append(val.split('、')[-1])\n",
    "    print(t2)\n",
    "    print(len(t2))\n",
    "\n",
    "with open('pkg/chicken_soup.json','r',encoding='utf-8') as file:\n",
    "    dictt = json.load(file)\n",
    "    dictt['韓國瑜'] = t2\n",
    "with open('pkg/chicken_soup.json','w',encoding='utf-8') as file:\n",
    "    json.dump(dictt,file)"
   ]
  },
  {
   "cell_type": "code",
   "execution_count": 3,
   "metadata": {},
   "outputs": [
    {
     "ename": "ModuleNotFoundError",
     "evalue": "No module named 'pathvalidate'",
     "output_type": "error",
     "traceback": [
      "\u001b[1;31m---------------------------------------------------------------------------\u001b[0m",
      "\u001b[1;31mModuleNotFoundError\u001b[0m                       Traceback (most recent call last)",
      "Cell \u001b[1;32mIn[3], line 3\u001b[0m\n\u001b[0;32m      1\u001b[0m \u001b[38;5;28;01mimport\u001b[39;00m \u001b[38;5;21;01mssl\u001b[39;00m\n\u001b[0;32m      2\u001b[0m ssl\u001b[38;5;241m.\u001b[39m_create_default_https_context \u001b[38;5;241m=\u001b[39m ssl\u001b[38;5;241m.\u001b[39m_create_stdlib_context\n\u001b[1;32m----> 3\u001b[0m \u001b[38;5;28;01mfrom\u001b[39;00m \u001b[38;5;21;01mpathvalidate\u001b[39;00m \u001b[38;5;28;01mimport\u001b[39;00m sanitize_filepath\n\u001b[0;32m      4\u001b[0m \u001b[38;5;28;01mfrom\u001b[39;00m \u001b[38;5;21;01mpytube\u001b[39;00m \u001b[38;5;28;01mimport\u001b[39;00m YouTube\n\u001b[0;32m      5\u001b[0m yt \u001b[38;5;241m=\u001b[39m YouTube(\u001b[38;5;124m'\u001b[39m\u001b[38;5;124mhttps://www.youtube.com/watch?v=EuamXHeMMmM\u001b[39m\u001b[38;5;124m'\u001b[39m)\n",
      "\u001b[1;31mModuleNotFoundError\u001b[0m: No module named 'pathvalidate'"
     ]
    }
   ],
   "source": [
    "import ssl\n",
    "ssl._create_default_https_context = ssl._create_stdlib_context\n",
    "from pathvalidate import sanitize_filepath\n",
    "from pytube import YouTube\n",
    "yt = YouTube('https://www.youtube.com/watch?v=EuamXHeMMmM')\n",
    "filename = sanitize_filepath(f'{yt.title}.mp4')\n",
    "yt.streams.filter().get_highest_resolution().download( filename= filename)\n"
   ]
  }
 ],
 "metadata": {
  "kernelspec": {
   "display_name": "venv",
   "language": "python",
   "name": "python3"
  },
  "language_info": {
   "codemirror_mode": {
    "name": "ipython",
    "version": 3
   },
   "file_extension": ".py",
   "mimetype": "text/x-python",
   "name": "python",
   "nbconvert_exporter": "python",
   "pygments_lexer": "ipython3",
   "version": "3.10.7"
  }
 },
 "nbformat": 4,
 "nbformat_minor": 2
}
