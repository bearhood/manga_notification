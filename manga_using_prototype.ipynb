{
 "cells": [
  {
   "cell_type": "code",
   "execution_count": 4,
   "metadata": {},
   "outputs": [
    {
     "data": {
      "text/plain": [
       "'\\nthe manga information\\n\\n{\\n    \"1193126967977988188\" ( user id ):\\n            {\\n                \"https://tw.manhuagui.com/comic/46429/\"(web site):\\n                    {\\n                        \"title\":\"請讓我吸血吧，我會報答你的\",\\n                        \"dep\":\"第50話\",\\n                    \\n                    }\\n            }\\n\\n    }\\n\\n'"
      ]
     },
     "execution_count": 4,
     "metadata": {},
     "output_type": "execute_result"
    }
   ],
   "source": [
    "'''\n",
    "the manga information\n",
    "\n",
    "{\n",
    "    \"1193126967977988188\" ( user id ):\n",
    "            {\n",
    "                \"https://tw.manhuagui.com/comic/46429/\"(web site):\n",
    "                    {\n",
    "                        \"title\":\"請讓我吸血吧，我會報答你的\",\n",
    "                        \"dep\":\"第50話\",\n",
    "                    \n",
    "                    }\n",
    "            }\n",
    "\n",
    "    }\n",
    "\n",
    "'''"
   ]
  },
  {
   "cell_type": "code",
   "execution_count": 2,
   "metadata": {},
   "outputs": [],
   "source": [
    "import json\n",
    "\n",
    "manga_dict = {\n",
    "    \"1193126967977988188\":\n",
    "            {\n",
    "                \"https://tw.manhuagui.com/comic/46429/\":\n",
    "                    {\n",
    "                        \"title\":\"請讓我吸血吧，我會報答你的\",\n",
    "                        \"dep\":\"第50話\",\n",
    "                        \"last\":'2024-08-30'\n",
    "                    \n",
    "                    }\n",
    "            }\n",
    "\n",
    "    }\n",
    "with open( r'/home/hebearo/python_app/manga_noti/manga_notification/data/manga/manga_data.json', 'w', encoding='utf-8')as jsonfile:\n",
    "    json.dump(manga_dict,jsonfile)\n"
   ]
  },
  {
   "cell_type": "code",
   "execution_count": 43,
   "metadata": {},
   "outputs": [],
   "source": [
    "import urllib\n",
    "from bs4 import BeautifulSoup\n",
    "web_update = 'https://tw.manhuagui.com/update/'\n",
    "url_headers = {'User-Agent': 'Mozilla/5.0 (Windows NT 10.0; Win64; x64) AppleWebKit/537.36 (KHTML, like Gecko) Chrome/117.0.0.0 Safari/537.36'}\n",
    "\n",
    "req = urllib.request.Request( web_update,\n",
    "                                headers = url_headers )\n",
    "html_page = urllib.request.urlopen( req ,timeout = 5)\n",
    "_soup = BeautifulSoup(html_page,'html.parser')"
   ]
  },
  {
   "cell_type": "code",
   "execution_count": 65,
   "metadata": {},
   "outputs": [
    {
     "data": {
      "text/plain": [
       "ParseResult(scheme='https', netloc='tw.manhuagui.com', path='/update/', params='', query='', fragment='')"
      ]
     },
     "execution_count": 65,
     "metadata": {},
     "output_type": "execute_result"
    }
   ],
   "source": [
    "from urllib.parse import urlparse\n",
    "urlparse(web_update)"
   ]
  },
  {
   "cell_type": "code",
   "execution_count": 66,
   "metadata": {},
   "outputs": [
    {
     "name": "stdout",
     "output_type": "stream",
     "text": [
      "/comic/43663/ 更新至28話\n",
      "/comic/51192/ 更新至30話\n",
      "/comic/51012/ 更新至06話\n",
      "/comic/36859/ 更新至113話\n",
      "/comic/28834/ 更新至129話\n",
      "/comic/28358/ 更新至66話\n",
      "/comic/30278/ 更新至71.3話\n",
      "/comic/33777/ 更新至207話\n",
      "/comic/49169/ 更新至140話\n",
      "/comic/24439/ 更新至83.2話\n",
      "/comic/39442/ 更新至60話\n",
      "/comic/48813/ 更新至60話\n",
      "/comic/51554/ 更新至13話\n",
      "/comic/24595/ 更新至139話試看\n",
      "/comic/45995/ 更新至6話\n",
      "/comic/34990/ 更新至動畫化\n",
      "/comic/50713/ 更新至08話\n",
      "/comic/46105/ 更新至詠唱魔法\n",
      "/comic/50921/ 更新至4.1話\n",
      "/comic/44668/ 更新至27話\n",
      "/comic/53284/ 更新至3.1話\n",
      "/comic/35771/ 更新至16話\n",
      "/comic/52206/ 更新至18話\n",
      "/comic/53597/ 更新至01話\n",
      "/comic/53596/ 共短篇\n",
      "/comic/53595/ 共短篇\n",
      "/comic/53594/ 更新至01卷\n",
      "/comic/45045/ 更新至57話\n",
      "/comic/53282/ 更新至09話\n",
      "/comic/53391/ 更新至喋喋不休的青梅竹馬來看望你，假裝失憶的話…\n",
      "/comic/41233/ 更新至18話\n",
      "/comic/51862/ 更新至27話\n",
      "/comic/29130/ 更新至餘波06\n",
      "/comic/37346/ 更新至178話\n",
      "/comic/34986/ 更新至同人圖164\n",
      "/comic/30291/ 更新至153話\n",
      "/comic/53575/ 更新至04話\n",
      "/comic/50772/ 共番外\n",
      "/comic/53593/ 共短篇\n",
      "/comic/52784/ 更新至02話\n",
      "/comic/46857/ 更新至16話\n",
      "/comic/52020/ 共12話\n",
      "/comic/50678/ 更新至14話\n",
      "/comic/29365/ 更新至835話\n",
      "/comic/45313/ 更新至15話\n",
      "/comic/50558/ 更新至10話\n",
      "/comic/39113/ 更新至52話\n",
      "/comic/51699/ 更新至12話\n",
      "/comic/50390/ 更新至12話\n",
      "/comic/44539/ 更新至27話\n",
      "/comic/51569/ 更新至11話\n",
      "/comic/43567/ 更新至33話\n",
      "/comic/50774/ 更新至16話\n",
      "/comic/51437/ 更新至27話\n",
      "/comic/53195/ 更新至06話\n",
      "/comic/53592/ 更新至01話\n",
      "/comic/53591/ 更新至01話\n",
      "/comic/40644/ 更新至17話\n",
      "/comic/53590/ 更新至02話\n",
      "/comic/43659/ 更新至11話\n",
      "/comic/36556/ 更新至49話\n",
      "/comic/39802/ 共63話\n",
      "/comic/45638/ 更新至01卷\n",
      "/comic/37228/ 更新至31話\n",
      "/comic/51829/ 更新至16話\n",
      "/comic/32450/ 更新至番外篇15\n",
      "/comic/51684/ 更新至36話\n",
      "/comic/46429/ 更新至50話\n",
      "/comic/1011/ 更新至169.5話\n",
      "/comic/53585/ 更新至01話\n",
      "/comic/53589/ 更新至65卷\n",
      "/comic/53051/ 更新至16話\n",
      "/comic/36367/ 共特別編43\n",
      "/comic/53588/ 更新至01話\n",
      "/comic/33240/ 更新至63話\n",
      "/comic/43611/ 更新至13話\n",
      "/comic/53452/ 更新至04話\n",
      "/comic/51529/ 更新至04話\n",
      "/comic/52783/ 更新至04話\n",
      "/comic/53374/ 更新至02話\n",
      "/comic/48800/ 更新至08話\n",
      "/comic/43592/ 更新至59話\n",
      "/comic/53587/ 更新至01話\n",
      "/comic/53586/ 共短篇\n",
      "/comic/39092/ 更新至168話\n",
      "/comic/52810/ 更新至03話\n",
      "/comic/42944/ 更新至4.2話\n",
      "/comic/34675/ 更新至59話\n",
      "/comic/23126/ 更新至76話\n",
      "/comic/28194/ 更新至49話\n",
      "/comic/41716/ 更新至26話\n",
      "/comic/41201/ 更新至11話\n",
      "/comic/53320/ 更新至04話\n",
      "/comic/44652/ 共16話\n",
      "/comic/53453/ 更新至02話\n",
      "/comic/39243/ 更新至44話\n",
      "/comic/50102/ 更新至03話\n",
      "/comic/50304/ 更新至19話\n",
      "/comic/53583/ 更新至01話\n",
      "/comic/53584/ 更新至序章\n",
      "/comic/50796/ 更新至06話\n",
      "/comic/37502/ 更新至07話\n",
      "/comic/43172/ 更新至13話\n",
      "/comic/50592/ 更新至05話\n",
      "/comic/35451/ 更新至16話\n",
      "/comic/23963/ 更新至19話\n",
      "/comic/39026/ 更新至03話\n",
      "/comic/18026/ 更新至03部367話\n",
      "/comic/51090/ 更新至36話\n",
      "/comic/50886/ 更新至12話\n",
      "/comic/42803/ 更新至01卷\n",
      "/comic/40748/ 更新至02卷\n",
      "/comic/50325/ 更新至32話\n",
      "/comic/10739/ 更新至14卷\n",
      "/comic/50275/ 更新至38話\n",
      "/comic/53582/ 共短篇\n",
      "/comic/49540/ 更新至16.2話\n",
      "/comic/46333/ 更新至24話\n",
      "/comic/51587/ 更新至07話\n",
      "/comic/52586/ 更新至06話\n",
      "/comic/50850/ 更新至06話\n",
      "/comic/39365/ 更新至37話\n",
      "/comic/39721/ 更新至21話\n",
      "/comic/53581/ 更新至奇銳駿\n",
      "/comic/11015/ 更新至29卷\n",
      "/comic/48091/ 更新至我在看高達W時隨手畫的\n",
      "/comic/23766/ 更新至1604話\n",
      "/comic/4601/ 共極163\n",
      "/comic/29569/ 更新至番外篇4\n"
     ]
    }
   ],
   "source": [
    "from  datetime import datetime\n",
    "updating_tot = _soup.findAll( attrs={'class':'latest-cont'})[0]\n",
    "last_day = updating_tot.findNext(name='h5').text.split(' ')[0]\n",
    "updating_ctx = updating_tot.findNext(attrs={'class':\"latest-list\"})\n",
    "updating_ctx_list = updating_ctx.findAll(name='li')\n",
    "today_date = str(datetime.now().strftime('%Y-%m-%d'))\n",
    "\n",
    "if(last_day==today_date):\n",
    "    for mginfo in updating_ctx_list:\n",
    "        mgname=  mginfo.findNext(name='a')['href']\n",
    "        mgdep = mginfo.findNext(name='span' , attrs={'class':\"tt\"}).text\n",
    "        print(mgname , mgdep)"
   ]
  },
  {
   "cell_type": "code",
   "execution_count": 74,
   "metadata": {},
   "outputs": [
    {
     "name": "stdout",
     "output_type": "stream",
     "text": [
      "['dd']\n",
      "0\n"
     ]
    }
   ],
   "source": [
    "a = ['as', 'dd']\n",
    "b = ['12','dd']\n",
    "\n",
    "print( list(set(a) & set(b)))\n",
    "print(a.index('as'))"
   ]
  },
  {
   "cell_type": "code",
   "execution_count": null,
   "metadata": {},
   "outputs": [],
   "source": [
    "return_dict = {}\n",
    "        '''\n",
    "            return_dict = { id: {title: ... , dep: ...}  }\n",
    "        '''\n",
    "        update_web = update_dict.keys()\n",
    "        print('in check_manga_up',update_web)\n",
    "        print(self.manga_dict )\n",
    "        for id in self.manga_dict.keys():\n",
    "            print('222')\n",
    "            return_dict[id]={}\n",
    "            print('nothing')\n",
    "            web_list = self.manga_dict[id].keys()\n",
    "            loc_list = [urlparse(web).path for web in web_list]\n",
    "            updates = list(set(loc_list) & set(update_web))\n",
    "            print(list(set(loc_list) & set(update_web)))\n",
    "            \n",
    "            for update in updates:\n",
    "                print(update)\n",
    "                web_idx = loc_list.index(update)\n",
    "                print('web',  web)\n",
    "                web = web_list[web_idx]\n",
    "                up_dep = update_dict[update].replace('更新','').replace('至','')\n",
    "\n",
    "                if( self.manga_dict[id][web]['dep'] != up_dep):\n",
    "                    self.manga_dict[id][web]['dep'] = up_dep\n",
    "                    return_dict[id][web] = self.manga_dict[id][web]\n",
    "        await self.save_json()\n",
    "        return return_dict"
   ]
  },
  {
   "cell_type": "code",
   "execution_count": 9,
   "metadata": {},
   "outputs": [
    {
     "name": "stdout",
     "output_type": "stream",
     "text": [
      "https://tw.manhuagui.com/comic/46429/\n"
     ]
    }
   ],
   "source": [
    "\n",
    "for id in manga_dict.keys():\n",
    "    for web_target in manga_dict[id].keys():\n",
    "        print(web_target)\n",
    "        "
   ]
  },
  {
   "cell_type": "code",
   "execution_count": null,
   "metadata": {},
   "outputs": [],
   "source": []
  }
 ],
 "metadata": {
  "kernelspec": {
   "display_name": ".venv",
   "language": "python",
   "name": "python3"
  },
  "language_info": {
   "codemirror_mode": {
    "name": "ipython",
    "version": 3
   },
   "file_extension": ".py",
   "mimetype": "text/x-python",
   "name": "python",
   "nbconvert_exporter": "python",
   "pygments_lexer": "ipython3",
   "version": "3.9.2"
  }
 },
 "nbformat": 4,
 "nbformat_minor": 2
}
