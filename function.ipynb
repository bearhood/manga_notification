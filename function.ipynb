{
 "cells": [
  {
   "cell_type": "code",
   "execution_count": 6,
   "metadata": {},
   "outputs": [
    {
     "ename": "RuntimeError",
     "evalue": "asyncio.run() cannot be called from a running event loop",
     "output_type": "error",
     "traceback": [
      "\u001b[1;31m---------------------------------------------------------------------------\u001b[0m",
      "\u001b[1;31mRuntimeError\u001b[0m                              Traceback (most recent call last)",
      "\u001b[1;32me:\\python_app\\manga_notification\\function.ipynb 儲存格 1\u001b[0m line \u001b[0;36m2\n\u001b[0;32m     <a href='vscode-notebook-cell:/e%3A/python_app/manga_notification/function.ipynb#W0sZmlsZQ%3D%3D?line=26'>27</a>\u001b[0m       \u001b[39melse\u001b[39;00m:\n\u001b[0;32m     <a href='vscode-notebook-cell:/e%3A/python_app/manga_notification/function.ipynb#W0sZmlsZQ%3D%3D?line=27'>28</a>\u001b[0m         \u001b[39mawait\u001b[39;00m message\u001b[39m.\u001b[39mchannel\u001b[39m.\u001b[39msend(tmp[\u001b[39m1\u001b[39m])\n\u001b[1;32m---> <a href='vscode-notebook-cell:/e%3A/python_app/manga_notification/function.ipynb#W0sZmlsZQ%3D%3D?line=28'>29</a>\u001b[0m client\u001b[39m.\u001b[39;49mrun(\u001b[39m\"\u001b[39;49m\u001b[39mMTE3MDIyMjExODQ1NDE4NjAzNA.Gn90Ot.MlSd4-fvAgUb0oODdVemNgV_jIBuHivwrv6eNY\u001b[39;49m\u001b[39m\"\u001b[39;49m)\n",
      "File \u001b[1;32me:\\python_app\\manga_notification\\venv\\lib\\site-packages\\discord\\client.py:860\u001b[0m, in \u001b[0;36mClient.run\u001b[1;34m(self, token, reconnect, log_handler, log_formatter, log_level, root_logger)\u001b[0m\n\u001b[0;32m    852\u001b[0m     utils\u001b[39m.\u001b[39msetup_logging(\n\u001b[0;32m    853\u001b[0m         handler\u001b[39m=\u001b[39mlog_handler,\n\u001b[0;32m    854\u001b[0m         formatter\u001b[39m=\u001b[39mlog_formatter,\n\u001b[0;32m    855\u001b[0m         level\u001b[39m=\u001b[39mlog_level,\n\u001b[0;32m    856\u001b[0m         root\u001b[39m=\u001b[39mroot_logger,\n\u001b[0;32m    857\u001b[0m     )\n\u001b[0;32m    859\u001b[0m \u001b[39mtry\u001b[39;00m:\n\u001b[1;32m--> 860\u001b[0m     asyncio\u001b[39m.\u001b[39;49mrun(runner())\n\u001b[0;32m    861\u001b[0m \u001b[39mexcept\u001b[39;00m \u001b[39mKeyboardInterrupt\u001b[39;00m:\n\u001b[0;32m    862\u001b[0m     \u001b[39m# nothing to do here\u001b[39;00m\n\u001b[0;32m    863\u001b[0m     \u001b[39m# `asyncio.run` handles the loop cleanup\u001b[39;00m\n\u001b[0;32m    864\u001b[0m     \u001b[39m# and `self.start` closes all sockets and the HTTPClient instance.\u001b[39;00m\n\u001b[0;32m    865\u001b[0m     \u001b[39mreturn\u001b[39;00m\n",
      "File \u001b[1;32m~\\AppData\\Local\\Programs\\Python\\Python310\\lib\\asyncio\\runners.py:33\u001b[0m, in \u001b[0;36mrun\u001b[1;34m(main, debug)\u001b[0m\n\u001b[0;32m      9\u001b[0m \u001b[39m\u001b[39m\u001b[39m\"\"\"Execute the coroutine and return the result.\u001b[39;00m\n\u001b[0;32m     10\u001b[0m \n\u001b[0;32m     11\u001b[0m \u001b[39mThis function runs the passed coroutine, taking care of\u001b[39;00m\n\u001b[1;32m   (...)\u001b[0m\n\u001b[0;32m     30\u001b[0m \u001b[39m    asyncio.run(main())\u001b[39;00m\n\u001b[0;32m     31\u001b[0m \u001b[39m\"\"\"\u001b[39;00m\n\u001b[0;32m     32\u001b[0m \u001b[39mif\u001b[39;00m events\u001b[39m.\u001b[39m_get_running_loop() \u001b[39mis\u001b[39;00m \u001b[39mnot\u001b[39;00m \u001b[39mNone\u001b[39;00m:\n\u001b[1;32m---> 33\u001b[0m     \u001b[39mraise\u001b[39;00m \u001b[39mRuntimeError\u001b[39;00m(\n\u001b[0;32m     34\u001b[0m         \u001b[39m\"\u001b[39m\u001b[39masyncio.run() cannot be called from a running event loop\u001b[39m\u001b[39m\"\u001b[39m)\n\u001b[0;32m     36\u001b[0m \u001b[39mif\u001b[39;00m \u001b[39mnot\u001b[39;00m coroutines\u001b[39m.\u001b[39miscoroutine(main):\n\u001b[0;32m     37\u001b[0m     \u001b[39mraise\u001b[39;00m \u001b[39mValueError\u001b[39;00m(\u001b[39m\"\u001b[39m\u001b[39ma coroutine was expected, got \u001b[39m\u001b[39m{!r}\u001b[39;00m\u001b[39m\"\u001b[39m\u001b[39m.\u001b[39mformat(main))\n",
      "\u001b[1;31mRuntimeError\u001b[0m: asyncio.run() cannot be called from a running event loop"
     ]
    }
   ],
   "source": [
    "#導入Discord.py\n",
    "import discord\n",
    "#client 是我們與 Discord 連結的橋樑，intents 是我們要求的權限\n",
    "intents = discord.Intents.default()\n",
    "intents.message_content = True\n",
    "client = discord.Client(intents=intents)\n",
    "\n",
    "#調用event函式庫\n",
    "@client.event\n",
    "#當機器人完成啟動時\n",
    "async def on_ready():\n",
    "    print('目前登入身份：',client.user)\n",
    "\n",
    "@client.event\n",
    "#當有訊息時\n",
    "async def on_message(message):\n",
    "    #排除自己的訊息，避免陷入無限循環\n",
    "    if message.author == client.user:\n",
    "        return\n",
    "    #如果以「說」開頭\n",
    "    if message.content.startswith('說'):\n",
    "      #分割訊息成兩份\n",
    "      tmp = message.content.split(\" \",2)\n",
    "      #如果分割後串列長度只有1\n",
    "      if len(tmp) == 1:\n",
    "        await message.channel.send(\"你要我說什麼啦？\")\n",
    "      else:\n",
    "        await message.channel.send(tmp[1])\n",
    "client.run(\"MTE3MDIyMjExODQ1NDE4NjAzNA.Gn90Ot.MlSd4-fvAgUb0oODdVemNgV_jIBuHivwrv6eNY\")\n"
   ]
  }
 ],
 "metadata": {
  "kernelspec": {
   "display_name": "venv",
   "language": "python",
   "name": "python3"
  },
  "language_info": {
   "codemirror_mode": {
    "name": "ipython",
    "version": 3
   },
   "file_extension": ".py",
   "mimetype": "text/x-python",
   "name": "python",
   "nbconvert_exporter": "python",
   "pygments_lexer": "ipython3",
   "version": "3.10.7"
  }
 },
 "nbformat": 4,
 "nbformat_minor": 2
}
